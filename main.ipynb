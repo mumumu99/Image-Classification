{
  "nbformat": 4,
  "nbformat_minor": 0,
  "metadata": {
    "colab": {
      "name": "main.ipynb",
      "provenance": [],
      "authorship_tag": "ABX9TyMcLI+i5RZdLQdubXDPG/Li",
      "include_colab_link": true
    },
    "kernelspec": {
      "name": "python3",
      "display_name": "Python 3"
    },
    "accelerator": "GPU"
  },
  "cells": [
    {
      "cell_type": "markdown",
      "metadata": {
        "id": "view-in-github",
        "colab_type": "text"
      },
      "source": [
        "<a href=\"https://colab.research.google.com/github/mumumu99/Image-Classification/blob/main/main.ipynb\" target=\"_parent\"><img src=\"https://colab.research.google.com/assets/colab-badge.svg\" alt=\"Open In Colab\"/></a>"
      ]
    },
    {
      "cell_type": "code",
      "metadata": {
        "colab": {
          "base_uri": "https://localhost:8080/",
          "height": 1000
        },
        "id": "JSRbZXygTYCi",
        "outputId": "cdc50d33-40a2-4d4a-c0c7-13e9c3b79ecc"
      },
      "source": [
        "import keras\r\n",
        "from keras.utils import to_categorical\r\n",
        "from keras import models, layers\r\n",
        "import numpy as np\r\n",
        "import pandas as pd\r\n",
        "import matplotlib.pyplot as plt\r\n",
        "\r\n",
        "from keras.datasets import cifar10\r\n",
        "(x,y), (xt,yt) = cifar10.load_data()\r\n",
        "\r\n",
        "label = ['airplane', 'automobile', 'bird', 'cat', 'deer', 'dog', 'frog', 'horse', 'ship', 'truck']\r\n",
        "\r\n",
        "x1 = x/255.0\r\n",
        "xt1 = xt/255.0\r\n",
        "y1 = to_categorical(y)\r\n",
        "yt1 = to_categorical(yt)\r\n",
        "\r\n",
        "model = models.Sequential()\r\n",
        "model.add(layers.Conv2D(filters=16,\r\n",
        "                        kernel_size=4,\r\n",
        "                        padding='same',\r\n",
        "                        strides=1,\r\n",
        "                        activation='relu',\r\n",
        "                        input_shape=(32,32,3,)))\r\n",
        "model.add(layers.MaxPool2D(pool_size=2, padding='same'))\r\n",
        "model.add(layers.BatchNormalization())\r\n",
        "model.add(layers.Dropout(0.05))\r\n",
        "\r\n",
        "model.add(layers.Conv2D(filters=32,\r\n",
        "                        kernel_size=4,\r\n",
        "                        padding='same',\r\n",
        "                        strides=1,\r\n",
        "                        activation='relu',\r\n",
        "                        input_shape=(32,32,3,)))\r\n",
        "model.add(layers.MaxPool2D(pool_size=2, padding='same'))\r\n",
        "model.add(layers.BatchNormalization())\r\n",
        "model.add(layers.Dropout(0.05))\r\n",
        "\r\n",
        "model.add(layers.Conv2D(filters=64,\r\n",
        "                        kernel_size=4,\r\n",
        "                        padding='same',\r\n",
        "                        strides=1,\r\n",
        "                        activation='relu',\r\n",
        "                        input_shape=(32,32,3,)))\r\n",
        "model.add(layers.MaxPool2D(pool_size=2, padding='same'))\r\n",
        "model.add(layers.BatchNormalization())\r\n",
        "model.add(layers.Dropout(0.05))\r\n",
        "\r\n",
        "model.add(layers.Flatten())\r\n",
        "model.add(layers.Dense(500,activation='relu'))\r\n",
        "model.add(layers.Dense(10,activation='softmax'))\r\n",
        "\r\n",
        "model.compile(\r\n",
        "    loss = \"categorical_crossentropy\",\r\n",
        "    optimizer = 'adam',\r\n",
        "    metrics = ['accuracy']\r\n",
        ")\r\n",
        "\r\n",
        "model.fit(x1, y1, batch_size=500, epochs=15, validation_split=0.2)\r\n",
        "\r\n",
        "filename = 'dog.jpg'\r\n",
        "from keras.preprocessing import image\r\n",
        "testimg = image.load_img(filename, target_size=(32,32))\r\n",
        "plt.imshow(np.uint8(testimg))\r\n",
        "img = image.img_to_array(testimg)\r\n",
        "\r\n",
        "my = np.expand_dims(img, axis=0)\r\n",
        "\r\n",
        "my1 = my/255.0\r\n",
        "output = model.predict(my1)\r\n",
        "x_index = np.arange(len(label))\r\n",
        "output = output.reshape(10)\r\n",
        "plt.figure(figsize=(10,5))\r\n",
        "plt.bar(x_index, output, tick_label=label, align='center')"
      ],
      "execution_count": 2,
      "outputs": [
        {
          "output_type": "stream",
          "text": [
            "Epoch 1/15\n",
            "80/80 [==============================] - 4s 40ms/step - loss: 1.7464 - accuracy: 0.4020 - val_loss: 3.7960 - val_accuracy: 0.0980\n",
            "Epoch 2/15\n",
            "80/80 [==============================] - 3s 35ms/step - loss: 1.0624 - accuracy: 0.6206 - val_loss: 6.6234 - val_accuracy: 0.0982\n",
            "Epoch 3/15\n",
            "80/80 [==============================] - 3s 35ms/step - loss: 0.8565 - accuracy: 0.6991 - val_loss: 7.7677 - val_accuracy: 0.1022\n",
            "Epoch 4/15\n",
            "80/80 [==============================] - 3s 35ms/step - loss: 0.7147 - accuracy: 0.7502 - val_loss: 8.8304 - val_accuracy: 0.1264\n",
            "Epoch 5/15\n",
            "80/80 [==============================] - 3s 35ms/step - loss: 0.6099 - accuracy: 0.7892 - val_loss: 5.0407 - val_accuracy: 0.1880\n",
            "Epoch 6/15\n",
            "80/80 [==============================] - 3s 37ms/step - loss: 0.5170 - accuracy: 0.8229 - val_loss: 3.9977 - val_accuracy: 0.2420\n",
            "Epoch 7/15\n",
            "80/80 [==============================] - 3s 35ms/step - loss: 0.4545 - accuracy: 0.8437 - val_loss: 1.6834 - val_accuracy: 0.5317\n",
            "Epoch 8/15\n",
            "80/80 [==============================] - 3s 35ms/step - loss: 0.3833 - accuracy: 0.8708 - val_loss: 1.1378 - val_accuracy: 0.6549\n",
            "Epoch 9/15\n",
            "80/80 [==============================] - 3s 35ms/step - loss: 0.3174 - accuracy: 0.8948 - val_loss: 0.9463 - val_accuracy: 0.7030\n",
            "Epoch 10/15\n",
            "80/80 [==============================] - 3s 35ms/step - loss: 0.2658 - accuracy: 0.9137 - val_loss: 0.9425 - val_accuracy: 0.7162\n",
            "Epoch 11/15\n",
            "80/80 [==============================] - 3s 35ms/step - loss: 0.2298 - accuracy: 0.9238 - val_loss: 1.0267 - val_accuracy: 0.6979\n",
            "Epoch 12/15\n",
            "80/80 [==============================] - 3s 35ms/step - loss: 0.1883 - accuracy: 0.9411 - val_loss: 0.9832 - val_accuracy: 0.7226\n",
            "Epoch 13/15\n",
            "80/80 [==============================] - 3s 35ms/step - loss: 0.1598 - accuracy: 0.9499 - val_loss: 0.9978 - val_accuracy: 0.7288\n",
            "Epoch 14/15\n",
            "80/80 [==============================] - 3s 35ms/step - loss: 0.1336 - accuracy: 0.9594 - val_loss: 1.0975 - val_accuracy: 0.7140\n",
            "Epoch 15/15\n",
            "80/80 [==============================] - 3s 35ms/step - loss: 0.1234 - accuracy: 0.9618 - val_loss: 1.0704 - val_accuracy: 0.7259\n"
          ],
          "name": "stdout"
        },
        {
          "output_type": "execute_result",
          "data": {
            "text/plain": [
              "<BarContainer object of 10 artists>"
            ]
          },
          "metadata": {
            "tags": []
          },
          "execution_count": 2
        },
        {
          "output_type": "display_data",
          "data": {
            "image/png": "[encoded data removed]",
            "text/plain": [
              "<Figure size 432x288 with 1 Axes>"
            ]
          },
          "metadata": {
            "tags": [],
            "needs_background": "light"
          }
        },
        {
          "output_type": "display_data",
          "data": {
            "image/png": "[encoded data removed]",
            "text/plain": [
              "<Figure size 720x360 with 1 Axes>"
            ]
          },
          "metadata": {
            "tags": [],
            "needs_background": "light"
          }
        }
      ]
    }
  ]
}